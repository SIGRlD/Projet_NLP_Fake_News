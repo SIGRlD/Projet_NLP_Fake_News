{
 "cells": [
  {
   "cell_type": "code",
   "execution_count": null,
   "metadata": {},
   "outputs": [],
   "source": [
    "import pandas as pd\n",
    "from nettoyage import FakeNews_Task3_2022_V0, Fake_Real_news, Veritas"
   ]
  },
  {
   "cell_type": "markdown",
   "metadata": {},
   "source": [
    "**Mettre les données brutes dans le dossier 'donnees'. Sinon, utiliser le chemin complet.**"
   ]
  },
  {
   "cell_type": "code",
   "execution_count": null,
   "metadata": {},
   "outputs": [],
   "source": [
    "data_train = FakeNews_Task3_2022_V0(\"Task3_english_training.csv\",\"train\")\n",
    "data_train"
   ]
  },
  {
   "cell_type": "code",
   "execution_count": null,
   "metadata": {},
   "outputs": [],
   "source": [
    "data_dev = FakeNews_Task3_2022_V0(\"Task3_english_dev.csv\",\"dev\")\n",
    "data_dev"
   ]
  },
  {
   "cell_type": "code",
   "execution_count": null,
   "metadata": {},
   "outputs": [],
   "source": [
    "data_test = FakeNews_Task3_2022_V0(\"English_data_test_release_with_rating.csv\",\"test\")\n",
    "data_test"
   ]
  },
  {
   "cell_type": "code",
   "execution_count": null,
   "metadata": {},
   "outputs": [],
   "source": [
    "data_fake_real = Fake_Real_news(\"Fake.csv\",\"True.csv\")\n",
    "data_fake_real"
   ]
  },
  {
   "cell_type": "code",
   "execution_count": null,
   "metadata": {},
   "outputs": [],
   "source": [
    "data_veritas = Veritas(\"veritas2.csv\",\"veritas2.1.csv\",\"veritas4.csv\",\"veritas4.1.csv\")\n",
    "data_veritas"
   ]
  },
  {
   "cell_type": "code",
   "execution_count": null,
   "metadata": {},
   "outputs": [],
   "source": []
  }
 ],
 "metadata": {
  "kernelspec": {
   "display_name": "IFT714",
   "language": "python",
   "name": "python3"
  },
  "language_info": {
   "codemirror_mode": {
    "name": "ipython",
    "version": 3
   },
   "file_extension": ".py",
   "mimetype": "text/x-python",
   "name": "python",
   "nbconvert_exporter": "python",
   "pygments_lexer": "ipython3",
   "version": "3.12.8"
  }
 },
 "nbformat": 4,
 "nbformat_minor": 2
}
