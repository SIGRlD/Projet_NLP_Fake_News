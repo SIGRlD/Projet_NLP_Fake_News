{
 "cells": [
  {
   "cell_type": "markdown",
   "metadata": {},
   "source": [
    "# Baseline"
   ]
  },
  {
   "cell_type": "markdown",
   "metadata": {},
   "source": [
    "### Librairies"
   ]
  },
  {
   "cell_type": "code",
   "execution_count": null,
   "metadata": {},
   "outputs": [],
   "source": [
    "import numpy as np\n",
    "import gensim\n",
    "import torch\n",
    "import torch.optim as optim\n",
    "from sklearn.metrics import accuracy_score\n",
    "from donnees.nettoyage import FakeNews_Task3_2022_V0\n",
    "from embedding import GloVeModel, tokeniser\n",
    "from modeles import LSTM, train_seq_var, evaluation"
   ]
  },
  {
   "cell_type": "markdown",
   "metadata": {},
   "source": [
    "## Données"
   ]
  },
  {
   "cell_type": "code",
   "execution_count": null,
   "metadata": {},
   "outputs": [],
   "source": [
    "# Importer et nettoyer les donnees\n",
    "data_train = FakeNews_Task3_2022_V0(\"./donnees/FakeNews_Task3_2022_V0/Task3_train_dev/Task3_english_training.csv\",\"train\")\n",
    "data_dev = FakeNews_Task3_2022_V0(\"./donnees/FakeNews_Task3_2022_V0/Task3_train_dev/Task3_english_dev.csv\",\"dev\")\n",
    "data_test = FakeNews_Task3_2022_V0(\"./donnees/FakeNews_Task3_2022_V0/Task3_Test/English_data_test_release_with_rating.csv\",\"test\")\n",
    "print(f\"Entrainement : {data_train.shape[0]} | Validation : {data_dev.shape[0]} | Test : {data_test.shape[0]}\")"
   ]
  },
  {
   "cell_type": "code",
   "execution_count": null,
   "metadata": {},
   "outputs": [],
   "source": [
    "data_train[\"full_text\"] = data_train.title+\" \"+data_train.text\n",
    "data_train[\"label$true\"] = np.where(data_train.our_rating==\"true\",1,0)\n",
    "data_train[\"label$false\"] = np.where(data_train.our_rating.str.contains(\"false\"),1,0)\n",
    "data_train[\"label\"] = np.select([data_train.our_rating.str.contains(\"false\"),data_train.our_rating==\"true\"],[0,1],2)\n",
    "data_dev[\"full_text\"] = data_dev.title+\" \"+data_dev.text\n",
    "data_dev[\"label$true\"] = np.where(data_dev.our_rating==\"true\",1,0)\n",
    "data_dev[\"label$false\"] = np.where(data_dev.our_rating.str.contains(\"false\"),1,0)\n",
    "data_dev[\"label\"] = np.select([data_dev.our_rating.str.contains(\"false\"),data_dev.our_rating==\"true\"],[0,1],2)\n",
    "data_test[\"full_text\"] = data_test.title+\" \"+data_test.text\n",
    "data_test[\"label$true\"] = np.where(data_test.our_rating==\"true\",1,0)\n",
    "data_test[\"label$false\"] = np.where(data_test.our_rating.str.contains(\"false\"),1,0)\n",
    "data_test[\"label\"] = np.select([data_test.our_rating.str.contains(\"false\"),data_test.our_rating==\"true\"],[0,1],2)"
   ]
  },
  {
   "cell_type": "code",
   "execution_count": null,
   "metadata": {},
   "outputs": [],
   "source": [
    "# Embedding \n",
    "# Choisir glove ou word2Vec\n",
    "glove = GloVeModel(\"./donnees/glove.6B/glove.6B.300d.txt\")\n",
    "# word2Vec = gensim.models.KeyedVectors.load_word2vec_format(\"./donnees/GoogleNews-vectors-negative300.bin.gz\",binary=True)"
   ]
  },
  {
   "cell_type": "code",
   "execution_count": null,
   "metadata": {},
   "outputs": [],
   "source": [
    "tokens_train = tokeniser(data_train.full_text,glove)\n",
    "len(tokens_train)"
   ]
  },
  {
   "cell_type": "code",
   "execution_count": null,
   "metadata": {},
   "outputs": [],
   "source": [
    "tokens_dev = tokeniser(data_dev.full_text,glove)\n",
    "len(tokens_dev)"
   ]
  },
  {
   "cell_type": "code",
   "execution_count": null,
   "metadata": {},
   "outputs": [],
   "source": [
    "tokens_test = tokeniser(data_test.full_text,glove)\n",
    "len(tokens_test)"
   ]
  },
  {
   "cell_type": "markdown",
   "metadata": {},
   "source": [
    "## LSTM-RNN"
   ]
  },
  {
   "cell_type": "markdown",
   "metadata": {},
   "source": [
    "### Prédire \"real\" news"
   ]
  },
  {
   "cell_type": "code",
   "execution_count": null,
   "metadata": {},
   "outputs": [],
   "source": [
    "lstm_real = LSTM(300,300,\"mps\")\n",
    "optimizer = optim.Adam(lstm_real.parameters(), lr=1e-3)\n",
    "lstm_real"
   ]
  },
  {
   "cell_type": "code",
   "execution_count": null,
   "metadata": {},
   "outputs": [],
   "source": [
    "cible_train_real = torch.tensor(data_train[\"label$true\"],dtype=torch.float32)\n",
    "cible_dev_real = torch.tensor(data_dev[\"label$true\"],dtype=torch.float32)\n",
    "train_seq_var(lstm_real,optimizer,5,tokens_train,cible_train_real,tokens_dev,cible_dev_real,\"mps\",verbose=1)"
   ]
  },
  {
   "cell_type": "code",
   "execution_count": null,
   "metadata": {},
   "outputs": [],
   "source": [
    "pred_train_dev_real = torch.cat((lstm_real.predict(tokens_train),lstm_real.predict(tokens_dev)))\n",
    "pred_test_real = lstm_real.predict(tokens_test)\n",
    "cible_train_dev_real = torch.cat((cible_train_real,cible_dev_real))\n",
    "cible_test_real = torch.tensor(data_test[\"label$true\"],dtype=torch.int)"
   ]
  },
  {
   "cell_type": "code",
   "execution_count": null,
   "metadata": {},
   "outputs": [],
   "source": [
    "evaluation(cible_train_dev_real,pred_train_dev_real,\"entrainement + dev\")\n",
    "evaluation(cible_test_real,pred_test_real,\"test\")"
   ]
  },
  {
   "cell_type": "markdown",
   "metadata": {},
   "source": [
    "### Prédire \"fake\" news"
   ]
  },
  {
   "cell_type": "code",
   "execution_count": null,
   "metadata": {},
   "outputs": [],
   "source": [
    "lstm_fake = LSTM(300,300,\"mps\")\n",
    "optimizer = optim.Adam(lstm_fake.parameters(), lr=1e-3)\n",
    "lstm_fake"
   ]
  },
  {
   "cell_type": "code",
   "execution_count": null,
   "metadata": {},
   "outputs": [],
   "source": [
    "cible_train_fake = torch.tensor(data_train[\"label$false\"],dtype=torch.float32)\n",
    "cible_dev_fake = torch.tensor(data_dev[\"label$false\"],dtype=torch.float32)\n",
    "train_seq_var(lstm_fake,optimizer,5,tokens_train,cible_train_fake,tokens_dev,cible_dev_fake,\"mps\",verbose=1)"
   ]
  },
  {
   "cell_type": "code",
   "execution_count": null,
   "metadata": {},
   "outputs": [],
   "source": [
    "pred_train_dev_fake = torch.cat((lstm_fake.predict(tokens_train),lstm_fake.predict(tokens_dev)))\n",
    "pred_test_fake = lstm_fake.predict(tokens_test)\n",
    "cible_train_dev_fake = torch.cat((cible_train_fake,cible_dev_fake))\n",
    "cible_test_fake = torch.tensor(data_test[\"label$false\"],dtype=torch.int)"
   ]
  },
  {
   "cell_type": "code",
   "execution_count": null,
   "metadata": {},
   "outputs": [],
   "source": [
    "evaluation(cible_train_dev_fake,pred_train_dev_fake,\"entrainement + dev\")\n",
    "evaluation(cible_test_fake,pred_test_fake,\"test\")"
   ]
  },
  {
   "cell_type": "markdown",
   "metadata": {},
   "source": [
    "### Combinaison"
   ]
  },
  {
   "cell_type": "code",
   "execution_count": null,
   "metadata": {},
   "outputs": [],
   "source": [
    "pred_train_dev = np.select([(pred_train_dev_real==0)*(pred_train_dev_fake==1),(pred_train_dev_real==1)*(pred_train_dev_fake==0)],[0,1],2)\n",
    "pred_test = np.select([(pred_test_real==0)*(pred_test_fake==1),(pred_test_real==1)*(pred_test_fake==0)],[0,1],2)\n",
    "cible_train_dev = torch.cat((torch.tensor(data_train[\"label\"]),torch.tensor(data_dev[\"label\"])))\n",
    "cible_test = torch.tensor(data_test[\"label\"])"
   ]
  },
  {
   "cell_type": "code",
   "execution_count": null,
   "metadata": {},
   "outputs": [],
   "source": [
    "print(\"Justesse entrainement + dev : {:.2f}%\".format(100*accuracy_score(cible_train_dev,pred_train_dev)))\n",
    "print(\"Justesse test : {:.2f}%\".format(100*accuracy_score(cible_test,pred_test)))"
   ]
  },
  {
   "cell_type": "code",
   "execution_count": null,
   "metadata": {},
   "outputs": [],
   "source": []
  }
 ],
 "metadata": {
  "kernelspec": {
   "display_name": "IFT714",
   "language": "python",
   "name": "python3"
  },
  "language_info": {
   "codemirror_mode": {
    "name": "ipython",
    "version": 3
   },
   "file_extension": ".py",
   "mimetype": "text/x-python",
   "name": "python",
   "nbconvert_exporter": "python",
   "pygments_lexer": "ipython3",
   "version": "3.12.8"
  }
 },
 "nbformat": 4,
 "nbformat_minor": 2
}
